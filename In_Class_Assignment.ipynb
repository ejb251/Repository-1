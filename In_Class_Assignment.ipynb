{
  "nbformat": 4,
  "nbformat_minor": 0,
  "metadata": {
    "colab": {
      "provenance": [],
      "authorship_tag": "ABX9TyMAB2J4cKeawRt4LWhVXOk8",
      "include_colab_link": true
    },
    "kernelspec": {
      "name": "python3",
      "display_name": "Python 3"
    },
    "language_info": {
      "name": "python"
    }
  },
  "cells": [
    {
      "cell_type": "markdown",
      "metadata": {
        "id": "view-in-github",
        "colab_type": "text"
      },
      "source": [
        "<a href=\"https://colab.research.google.com/github/ejb251/Repository-1/blob/main/In_Class_Assignment.ipynb\" target=\"_parent\"><img src=\"https://colab.research.google.com/assets/colab-badge.svg\" alt=\"Open In Colab\"/></a>"
      ]
    },
    {
      "cell_type": "code",
      "execution_count": null,
      "metadata": {
        "colab": {
          "base_uri": "https://localhost:8080/"
        },
        "id": "G4_G0AtnwCy3",
        "outputId": "d1002f05-ce9f-4a06-82e5-a04be1845ce5"
      },
      "outputs": [
        {
          "output_type": "stream",
          "name": "stdout",
          "text": [
            "radius:2\n",
            "height:4\n",
            "area: 75.36 sq.ft\n"
          ]
        }
      ],
      "source": [
        "pi = 3.14\n",
        "radius = int(input(\"radius:\"))\n",
        "height = int(input(\"height:\"))\n",
        "\n",
        "area = (2 * pi * radius ** 2) + (2 * pi * radius * height)\n",
        "print(\"area:\",area, \"sq.ft\")"
      ]
    },
    {
      "cell_type": "code",
      "source": [],
      "metadata": {
        "id": "-3BvloX7Jc68"
      },
      "execution_count": null,
      "outputs": []
    },
    {
      "cell_type": "code",
      "source": [
        "pi = 3.14\n",
        "radius = float(input('Please provide radius:'))\n",
        "height = float(input('Please provide height of cylinder:'))\n",
        "\n",
        "area = (2 * pi * radius ** 2) + (2 * pi * radius * height)\n",
        "print(f'Area of cylinder = {area} sq. ft')"
      ],
      "metadata": {
        "colab": {
          "base_uri": "https://localhost:8080/"
        },
        "id": "pZ_SvXwgz05m",
        "outputId": "14d2acbe-e0bc-49ca-c361-dc54ff8fb679"
      },
      "execution_count": null,
      "outputs": [
        {
          "output_type": "stream",
          "name": "stdout",
          "text": [
            "Please provide radius:5\n",
            "Please provide height of cylinder:10\n",
            "Area of cylinder = 471.0 sq. ft\n"
          ]
        }
      ]
    },
    {
      "cell_type": "code",
      "source": [
        "x = 2\n",
        "y = 3\n",
        "\n",
        "if x < 3:\n",
        "  print(\"x less than y\")"
      ],
      "metadata": {
        "colab": {
          "base_uri": "https://localhost:8080/"
        },
        "id": "NHr0pU7nz509",
        "outputId": "ea673777-2006-4800-9976-16cf007aceab"
      },
      "execution_count": null,
      "outputs": [
        {
          "output_type": "stream",
          "name": "stdout",
          "text": [
            "x less than y\n"
          ]
        }
      ]
    },
    {
      "cell_type": "code",
      "source": [
        "from posixpath import expandvars\n",
        "if condition:\n",
        "  expr\n",
        "  expr"
      ],
      "metadata": {
        "id": "5LmZXE233rB7"
      },
      "execution_count": null,
      "outputs": []
    },
    {
      "cell_type": "code",
      "source": [
        "fico = int(input(\"Please provide your FICO score: \"))\n",
        "\n",
        "if fico >= 700:\n",
        "  print('Loan granted!')\n",
        "else\n",
        "  print('Loan denied!')"
      ],
      "metadata": {
        "id": "V9P73Yjk9LAU"
      },
      "execution_count": null,
      "outputs": []
    },
    {
      "cell_type": "code",
      "source": [
        "fico = int(input(\"Please provide your FICO score: \"))\n",
        "\n",
        "if fico >= 700:\n",
        "  print('Loan granted!')\n",
        "elif fico < 700:\n",
        "  print('Loan denied!')"
      ],
      "metadata": {
        "id": "wfo47CqW4RoP"
      },
      "execution_count": null,
      "outputs": []
    },
    {
      "cell_type": "markdown",
      "source": [
        "In Class 2"
      ],
      "metadata": {
        "id": "OAdM8J_oLegQ"
      }
    },
    {
      "cell_type": "code",
      "source": [
        "n1 = float(input('please put 1st number:'))\n",
        "n2 = float(input('please put 2nd number:'))\n",
        "s = input('Please provide Sign (+, -, *, /, //, **, %):')\n",
        "\n",
        "if s == '-':\n",
        "                 print(f'{n1}) - {n2} = {n1 - n2}')\n",
        "elif s == '*':\n",
        "               print(f'{n1}) * {n2} = {n1 * n2}')\n",
        "\n",
        "elif s == '+':\n",
        "               print(f'{n1}) + {n2} = {n1 + n2}')\n",
        "\n",
        "elif s == '/':\n",
        "               print(f'{n1}) / {n2} = {n1 / n2}')\n",
        "elif s == '//':\n",
        "               print(f'{n1}) // {n2} = {n1 // n2}')\n",
        "elif s == '**':\n",
        "               print(f'{n1}) ** {n2} = {n1 ** n2}')\n",
        "elif s == '%':\n",
        "               print(f'{n1}) % {n2} = {n1 % n2}')\n",
        "else:\n",
        "  print('Invalid Operator')"
      ],
      "metadata": {
        "id": "kD3l57pHJfP5",
        "colab": {
          "base_uri": "https://localhost:8080/"
        },
        "outputId": "ad0d86fd-cd95-4a81-c02f-7e4c4fa2b979"
      },
      "execution_count": 4,
      "outputs": [
        {
          "output_type": "stream",
          "name": "stdout",
          "text": [
            "please put 1st number:9\n",
            "please put 2nd number:3\n",
            "Please provide Sign (+, -, *, /, //, **, %):+\n",
            "9.0) + 3.0 = 12.0\n"
          ]
        }
      ]
    },
    {
      "cell_type": "markdown",
      "source": [
        "Class 2/5"
      ],
      "metadata": {
        "id": "8fFXLcSfN7Gc"
      }
    },
    {
      "cell_type": "code",
      "source": [
        "for numberHours in range(1, 9):\n",
        "  fee = 5 + 2.5 * numberHours\n",
        "  if fee <= 10:\n",
        "    fee = 10\n",
        "  elif fee > 20:\n",
        "      fee = 20\n",
        "  print(numberHours, fee)"
      ],
      "metadata": {
        "colab": {
          "base_uri": "https://localhost:8080/"
        },
        "id": "EIAoYuKQLi9I",
        "outputId": "137989b4-d9b9-4f6a-e25b-3676bba9c597"
      },
      "execution_count": 13,
      "outputs": [
        {
          "output_type": "stream",
          "name": "stdout",
          "text": [
            "1 10\n",
            "2 10\n",
            "3 12.5\n",
            "4 15.0\n",
            "5 17.5\n",
            "6 20.0\n",
            "7 20\n",
            "8 20\n"
          ]
        }
      ]
    },
    {
      "cell_type": "code",
      "source": [
        "print('AD$\\t', 'Profit')\n",
        "for adcost in range(0, 201, 25):\n",
        "  additional = 2 * round(adcost ** 0.5)\n",
        "  profit = (20 + additional) * 10 - 200 - adcost\n",
        "  print(adcost, '\\t', profit)"
      ],
      "metadata": {
        "colab": {
          "base_uri": "https://localhost:8080/"
        },
        "id": "U0sSxUcnN6Iv",
        "outputId": "62962f18-1eb9-4079-98d7-70f3e2b7acb1"
      },
      "execution_count": 40,
      "outputs": [
        {
          "output_type": "stream",
          "name": "stdout",
          "text": [
            "AD$\t Profit\n",
            "0 \t 0\n",
            "25 \t 75\n",
            "50 \t 90\n",
            "75 \t 105\n",
            "100 \t 100\n",
            "125 \t 95\n",
            "150 \t 90\n",
            "175 \t 85\n",
            "200 \t 80\n"
          ]
        }
      ]
    }
  ]
}